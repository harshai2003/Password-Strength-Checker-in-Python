{
 "cells": [
  {
   "cell_type": "code",
   "execution_count": null,
   "id": "205752b6",
   "metadata": {},
   "outputs": [],
   "source": [
    "import re\n",
    "\n",
    "def password_strength_checker(password):\n",
    " \n",
    "\n",
    "  # Check if the password is at least 8 characters long.\n",
    "    if len(password) < 8:\n",
    "        \n",
    "        return \"Weak\"\n",
    "\n",
    "  # Check if the password contains at least one uppercase letter, one lowercase letter, and one number.\n",
    "    if not re.search(\"[A-Z]\", password) or not re.search(\"[a-z]\", password) or not re.search(\"[0-9]\", password):\n",
    "        return \"Weak\"\n",
    "\n",
    "  # Check if the password contains any special characters.\n",
    "    if not re.search(\"[!@#$%^&*()_+-=]\", password):\n",
    "        return \"Medium\"\n",
    "\n",
    "  # If the password passes all of the above checks, it is considered strong.\n",
    "    return \"Strong\"\n",
    "\n",
    "# Prompt the user to enter a password\n",
    "password = input(\"Enter a password: \")\n",
    "\n",
    "# Check the strength of the password\n",
    "password_strength = password_strength_checker(password)\n",
    "\n",
    "# Display the strength of the password to the user\n",
    "print(password_strength)"
   ]
  }
 ],
 "metadata": {
  "kernelspec": {
   "display_name": "Python 3 (ipykernel)",
   "language": "python",
   "name": "python3"
  },
  "language_info": {
   "codemirror_mode": {
    "name": "ipython",
    "version": 3
   },
   "file_extension": ".py",
   "mimetype": "text/x-python",
   "name": "python",
   "nbconvert_exporter": "python",
   "pygments_lexer": "ipython3",
   "version": "3.9.12"
  }
 },
 "nbformat": 4,
 "nbformat_minor": 5
}
